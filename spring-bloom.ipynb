{
 "cells": [
  {
   "cell_type": "markdown",
   "metadata": {},
   "source": [
    "# The 2021 onset of the spring bloom in the eastern subpolar North Atlantic\n",
    "\n",
    "Name:\n",
    "\n",
    "Collaborators:\n"
   ]
  },
  {
   "cell_type": "markdown",
   "metadata": {},
   "source": [
    "# Introduction\n",
    "\n",
    "Intro goes here."
   ]
  },
  {
   "cell_type": "markdown",
   "metadata": {},
   "source": [
    "# Methods\n",
    "\n",
    "Methods go here.\n",
    "\n",
    "In particular, satellite data is from the [MODIS sensor on NASA's Aqua satellite](https://modis.gsfc.nasa.gov/data/dataprod/chlor_a.php).\n",
    "Some other interactive pages that give windows into what's going on are:\n",
    "+ https://neo.sci.gsfc.nasa.gov/view.php?datasetId=MY1DMW_CHLORA&year=2021\n",
    "+ https://www.nnvl.noaa.gov/view/globaldata.html#ALGE\n",
    "+ https://livingatlas.arcgis.com/emu/\n",
    "\n",
    "To do:\n",
    "1. download MODIS data\n",
    "2. code for plotting/loadings MODIS\n",
    "3. pull in sg data lib\n",
    "4. batch convert sg data to .hb\n",
    "    + for each .nc\n",
    "    + if there is no .hb\n",
    "    + convert to .hb\n",
    "5. make MODIS mean\n",
    "6. plot MODIS anomalies\n",
    "7. plot climatology data\n",
    "8. plot sg data\n",
    "9. download additional sg data (if needed)"
   ]
  },
  {
   "cell_type": "code",
   "execution_count": 58,
   "metadata": {},
   "outputs": [],
   "source": [
    "import load_glider_data as sg\n",
    "import numpy as np\n",
    "import matplotlib.pyplot as plt\n",
    "import datetime as dt\n",
    "\n",
    "#=================================\n",
    "# Function to find the mixed layer\n",
    "# depth (MLD) based on the depth\n",
    "# of first occurance of a density\n",
    "# difference greater than s0_thresh\n",
    "# (the threshold density difference).\n",
    "def find_mld(de,s0,s0_thresh):\n",
    "    # Find the difference with the surface\n",
    "    # density.  Since bubbles at the surface\n",
    "    # can cause bad density values at the\n",
    "    # very top of the water column, find the\n",
    "    # minimum density of the profile after\n",
    "    # ignoring all the NaN (not a number)\n",
    "    # placeholders for missing/bad data.\n",
    "    ds0 = s0-s0[~np.isnan(s0)].min()\n",
    "    \n",
    "    # Find all the values that are right at\n",
    "    # and below the MLD.  Select the single\n",
    "    # value at the MLD by taking the minimum\n",
    "    # depth and density.\n",
    "    return de[ds0 > s0_thresh].min(), s0[ds0 > s0_thresh].min()\n",
    "    "
   ]
  },
  {
   "cell_type": "markdown",
   "metadata": {},
   "source": [
    "# Results"
   ]
  },
  {
   "cell_type": "markdown",
   "metadata": {},
   "source": [
    "## Step 1: Climatological profiles\n",
    "\n",
    "Load the climatological (time-mean) profiles from 10.1W, 57.1N from [Gary et al. (2018)](https://agupubs.onlinelibrary.wiley.com/doi/full/10.1002/2017JC013350).  These profiles have exactly the same format as the glider data we plotted previously although they are really a blend of ship, glider, and other robot observations - basically all data available in the region!  They represent the best estimate of long-term average conditions for each season.  To access them, use glider number `'000'` and request profiles `['DJF', 'MAM', 'JJA', and 'SON']`.  The goal for Figure 1 is to plot the seasonal climatological profiles of density and using the `find_mld` function above, also plot the mixed layer depth.  The resulting figure should look a lot like Segar's [Chapter 8](https://reefimages.com/oceans/SegarOcean4Chap08.pdf)'s Figure 8-20, but all profiles are overlaid on top of each other."
   ]
  },
  {
   "cell_type": "code",
   "execution_count": 63,
   "metadata": {},
   "outputs": [
    {
     "data": {
      "image/png": "[encoded data removed]",
      "text/plain": [
       "<Figure size 432x288 with 1 Axes>"
      ]
     },
     "metadata": {
      "needs_background": "light"
     },
     "output_type": "display_data"
    }
   ],
   "source": [
    "fig, ax = plt.subplots()\n",
    "\n",
    "[lon, lat, de, te, sa, th, s0, year, month, day] = sg.load_hb_profile('000','DJF')\n",
    "ax.plot(s0,-1.0*de,'b-')\n",
    "\n",
    "de_mld, s0_mld = find_mld(de,s0,0.02)\n",
    "ax.plot(s0_mld,-1.0*de_mld,'b+')\n",
    "\n",
    "[lon, lat, de, te, sa, th, s0, year, month, day] = sg.load_hb_profile('000','MAM')\n",
    "ax.plot(s0,-1.0*de,'k-')\n",
    "\n",
    "de_mld, s0_mld = find_mld(de,s0,0.02)\n",
    "ax.plot(s0_mld,-1.0*de_mld,'k+')\n",
    "\n",
    "[lon, lat, de, te, sa, th, s0, year, month, day] = sg.load_hb_profile('000','JJA')\n",
    "ax.plot(s0,-1.0*de,'r-')\n",
    "\n",
    "de_mld, s0_mld = find_mld(de,s0,0.02)\n",
    "ax.plot(s0_mld,-1.0*de_mld,'r+')\n",
    "\n",
    "[lon, lat, de, te, sa, th, s0, year, month, day] = sg.load_hb_profile('000','SON')\n",
    "ax.plot(s0,-1.0*de,'g-')\n",
    "\n",
    "de_mld, s0_mld = find_mld(de,s0,0.02)\n",
    "ax.plot(s0_mld,-1.0*de_mld,'g+')\n",
    "\n",
    "ax.legend(['DJF','DJF MLD','MAM','MAM MLD','JJA','JJA MLD','SON','SON MLD'])\n",
    "ax.grid()\n"
   ]
  },
  {
   "cell_type": "markdown",
   "metadata": {},
   "source": [
    "Description of the results Step 1 goes here."
   ]
  },
  {
   "cell_type": "code",
   "execution_count": 33,
   "metadata": {},
   "outputs": [
    {
     "data": {
      "text/plain": [
       "0      27.0134\n",
       "1      27.0133\n",
       "2      27.0133\n",
       "3      27.0133\n",
       "4      27.0134\n",
       "5      27.0133\n",
       "6      27.0133\n",
       "7      27.0133\n",
       "8      27.0134\n",
       "9      27.0490\n",
       "10     27.0779\n",
       "11     27.0935\n",
       "12     27.1046\n",
       "13     27.1156\n",
       "14     27.1326\n",
       "15     27.1483\n",
       "16     27.1606\n",
       "17     27.1715\n",
       "18     27.1818\n",
       "19     27.1934\n",
       "20     27.2039\n",
       "21     27.2133\n",
       "22     27.2213\n",
       "23     27.2279\n",
       "24     27.2339\n",
       "25     27.2396\n",
       "26     27.2444\n",
       "27     27.2489\n",
       "28     27.2534\n",
       "29     27.2578\n",
       "        ...   \n",
       "183    27.7836\n",
       "184    27.7850\n",
       "185    27.7865\n",
       "186    27.7879\n",
       "187    27.7894\n",
       "188    27.7908\n",
       "189    27.7919\n",
       "190    27.7933\n",
       "191    27.7948\n",
       "192    27.7962\n",
       "193    27.7988\n",
       "194    27.8032\n",
       "195    27.8077\n",
       "196    27.8123\n",
       "197    27.8168\n",
       "198    27.8222\n",
       "199    27.8276\n",
       "200    27.8331\n",
       "201    27.8423\n",
       "202    27.8453\n",
       "203    27.8482\n",
       "204    27.8511\n",
       "205    27.8540\n",
       "206    27.8569\n",
       "207    27.8598\n",
       "208    27.8629\n",
       "209    27.8659\n",
       "210    27.8661\n",
       "211    27.8663\n",
       "212    27.8664\n",
       "Name: s0, Length: 213, dtype: float64"
      ]
     },
     "execution_count": 33,
     "metadata": {},
     "output_type": "execute_result"
    }
   ],
   "source": [
    "# Step 2: Satellite data showing sea surface chloropyll\n"
   ]
  },
  {
   "cell_type": "markdown",
   "metadata": {},
   "source": [
    "Description of the results Step 2 goes here."
   ]
  },
  {
   "cell_type": "markdown",
   "metadata": {},
   "source": [
    "# Discussion"
   ]
  },
  {
   "cell_type": "markdown",
   "metadata": {},
   "source": [
    "Discussion questions go here."
   ]
  },
  {
   "cell_type": "markdown",
   "metadata": {},
   "source": [
    "# References"
   ]
  },
  {
   "cell_type": "markdown",
   "metadata": {},
   "source": []
  }
 ],
 "metadata": {
  "kernelspec": {
   "display_name": "Python 3.6",
   "language": "python",
   "name": "python3.6"
  },
  "language_info": {
   "codemirror_mode": {
    "name": "ipython",
    "version": 3
   },
   "file_extension": ".py",
   "mimetype": "text/x-python",
   "name": "python",
   "nbconvert_exporter": "python",
   "pygments_lexer": "ipython3",
   "version": "3.6.9"
  }
 },
 "nbformat": 4,
 "nbformat_minor": 2
}
